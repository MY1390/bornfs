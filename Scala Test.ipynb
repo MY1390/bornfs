{
 "cells": [
  {
   "cell_type": "code",
   "execution_count": 8,
   "metadata": {},
   "outputs": [
    {
     "data": {
      "text/plain": [
       "\u001b[32mimport \u001b[39m\u001b[36mjava.text.DecimalFormat\n",
       "\u001b[39m\n",
       "\u001b[36mf\u001b[39m: \u001b[32mDecimalFormat\u001b[39m = java.text.DecimalFormat@674dc"
      ]
     },
     "execution_count": 8,
     "metadata": {},
     "output_type": "execute_result"
    }
   ],
   "source": [
    "import java.text.DecimalFormat\n",
    "val f = new DecimalFormat(\"0.0000\")\n"
   ]
  },
  {
   "cell_type": "code",
   "execution_count": 1,
   "metadata": {},
   "outputs": [
    {
     "data": {
      "text/plain": [
       "\u001b[32mimport \u001b[39m\u001b[36mcollection.mutable.{ArrayBuffer, HashMap}\n",
       "\u001b[39m\n",
       "defined \u001b[32mtype\u001b[39m \u001b[36mAttr\u001b[39m\n",
       "defined \u001b[32mtype\u001b[39m \u001b[36mIndex\u001b[39m\n",
       "defined \u001b[32mtype\u001b[39m \u001b[36mValue\u001b[39m\n",
       "defined \u001b[32mclass\u001b[39m \u001b[36mCase\u001b[39m"
      ]
     },
     "execution_count": 1,
     "metadata": {},
     "output_type": "execute_result"
    }
   ],
   "source": [
    "import collection.mutable.{ArrayBuffer, HashMap}\n",
    "type Attr = Int\n",
    "type Index = Int\n",
    "type Value = Int\n",
    "\n",
    "case class Case(var row: ArrayBuffer[(Attr,Value)], val classLabel: Value, val frq: Int) {\n",
    "  //  rowの中は特徴番号の順に昇順にソートされていると仮定する。\n",
    "  //  以下のコードをいれて、ソートを仮定しなくてもよい。\n",
    "  //\n",
    "  //  row = row.sortWith {_._1 < _._1}\n",
    "  //\n",
    "  /*\n",
    "   rowは、0以外の値を持つ特徴の(id, value)の並び。\n",
    "   windowは、特徴全体の部分集合を指定する。\n",
    "   window内では、一時的なindexが、0から順に一時的に振られる。\n",
    "   windowの実態は、0以外の値を持つ特徴の(index, value)の並び\n",
    "   */\n",
    "\n",
    "  var window = row.clone()\n",
    "\n",
    "  val size = row.size\n",
    "\n",
    "  def apply(i: Index): Value = {\n",
    "    /*\n",
    "     window中でインデックスiの特徴の値\n",
    "     */\n",
    "    val j = this.indexOf(i)\n",
    "    return if(j < 0) 0 else window(j)._2\n",
    "  }\n",
    "\n",
    "  def indexOf(i: Index): Int = {\n",
    "    /*\n",
    "     window中でインデックスiの特徴のwindow内での位置\n",
    "     */\n",
    "    var l = 0\n",
    "    var u = window.size - 1\n",
    "    if(u < 0 || window(l)._1 > i || window(u)._1 < i) return -1\n",
    "    if(window(u)._1 == i) return u\n",
    "    /*\n",
    "     以下では常に、window(l)._1 <= i、かつ、window(u) > iが成り立つ。\n",
    "     */\n",
    "    while(true) {\n",
    "      if(l + 1 == u) return if(window(l)._1 == i) l else -1\n",
    "      val j = (l + u)/2\n",
    "      window(j)._1 match {\n",
    "        case y if y <= i => l = j\n",
    "        case y if y > i => u = j\n",
    "      }\n",
    "    }\n",
    "    0 // Syntax Errorを回避するためのダミー\n",
    "  }\n",
    "\n",
    "  def value(a: Attr): Value = {\n",
    "    /*\n",
    "     row中で識別子iの特徴の値\n",
    "     */\n",
    "    val j = this.locationOf(a)\n",
    "    return if(j < 0) 0 else row(j)._2\n",
    "  }\n",
    "\n",
    "  def locationOf(a: Attr): Int = {\n",
    "    /*\n",
    "     row中で識別子aの特徴のrow内での位置\n",
    "     */\n",
    "    var l = 0\n",
    "    var u = row.size - 1\n",
    "    if(u < 0 || row(l)._1 > a || row(u)._1 < a) return -1\n",
    "    if(row(u)._1 == a) return u\n",
    "    /*\n",
    "     以下では常に、row(l)._1 <= a、かつ、row(u) > aが成り立つ。\n",
    "     */\n",
    "    while(true) {\n",
    "      if(l + 1 == u) return if(row(l)._1 == a) l else -1\n",
    "      val j = (l + u)/2\n",
    "      row(j)._1 match {\n",
    "        case y if y <= a => l = j\n",
    "        case y if y > a => u = j\n",
    "      }\n",
    "    }\n",
    "    0 // Syntax Errorを回避するためのダミー\n",
    "  }\n",
    "\n",
    "\n",
    "  def renumber(order: Array[Index]) {\n",
    "    /*\n",
    "     order(i)は、現在のwindow中のインデックスiの特徴の、新たなwindowにおけるインデックス\n",
    "     orderは、0, ..., rs-1の順列\n",
    "     */\n",
    "    val temp = ArrayBuffer[(Index, Value)]()\n",
    "    val lim = order.size\n",
    "    val ws = window.size\n",
    "    var i = 0\n",
    "    while(i < ws && window(i)._1 < lim) {\n",
    "      val p = window(i)\n",
    "      temp.append((order(p._1), p._2))\n",
    "      i += 1\n",
    "    }\n",
    "    window = temp.sortWith(_._1 < _._1)\n",
    "  }\n",
    "\n",
    "  def compare(that: Case, index: Index): Int = {\n",
    "    /*\n",
    "     window内でインデックスが[0, index]内の特徴に関する辞書式順序でthisとthatを比較\n",
    "     this < that => -1\n",
    "     this == that => 0\n",
    "     this > that => +1\n",
    "     */\n",
    "    var i = 0\n",
    "    val lim = math.min(this.window.size, that.window.size)\n",
    "    while(i < lim) {\n",
    "      val x = this.window(i)\n",
    "      val y = that.window(i)\n",
    "      if(x._1 <= index) {\n",
    "        x._1 - y._1 match {\n",
    "          case diff if diff < 0 => return 1\n",
    "          case diff if diff > 0 => return -1\n",
    "          case _ => i += 1\n",
    "        }\n",
    "      } else {\n",
    "        return if(y._1 <= index) -1 else 0\n",
    "      }\n",
    "    }\n",
    "    if(i == this.window.size) {\n",
    "      if(i == that.window.size) return 0\n",
    "      return if(that.window(i)._1 <= index) -1 else 0\n",
    "    } else {\n",
    "      return if(this.window(i)._1 <= index) 1 else 0\n",
    "    }\n",
    "  }\n",
    "\n",
    " def serialize: String = row.map{x =>x._1 + \">\" + x._2}.mkString(\":\")\n",
    "\n",
    "}\n",
    "\n"
   ]
  },
  {
   "cell_type": "code",
   "execution_count": 2,
   "metadata": {},
   "outputs": [
    {
     "data": {
      "text/plain": [
       "\u001b[36mraw_data\u001b[39m: \u001b[32mArray\u001b[39m[(\u001b[32mArrayBuffer\u001b[39m[(\u001b[32mInt\u001b[39m, \u001b[32mInt\u001b[39m)], \u001b[32mInt\u001b[39m, \u001b[32mInt\u001b[39m)] = \u001b[33mArray\u001b[39m(\n",
       "  (\u001b[33mArrayBuffer\u001b[39m((\u001b[32m1\u001b[39m, \u001b[32m1\u001b[39m), (\u001b[32m4\u001b[39m, \u001b[32m1\u001b[39m)), \u001b[32m0\u001b[39m, \u001b[32m1\u001b[39m),\n",
       "  (\u001b[33mArrayBuffer\u001b[39m((\u001b[32m0\u001b[39m, \u001b[32m1\u001b[39m), (\u001b[32m1\u001b[39m, \u001b[32m1\u001b[39m), (\u001b[32m4\u001b[39m, \u001b[32m1\u001b[39m)), \u001b[32m1\u001b[39m, \u001b[32m2\u001b[39m),\n",
       "  (\u001b[33mArrayBuffer\u001b[39m((\u001b[32m0\u001b[39m, \u001b[32m1\u001b[39m), (\u001b[32m2\u001b[39m, \u001b[32m1\u001b[39m), (\u001b[32m3\u001b[39m, \u001b[32m1\u001b[39m), (\u001b[32m5\u001b[39m, \u001b[32m1\u001b[39m)), \u001b[32m0\u001b[39m, \u001b[32m1\u001b[39m),\n",
       "  (\u001b[33mArrayBuffer\u001b[39m((\u001b[32m1\u001b[39m, \u001b[32m1\u001b[39m), (\u001b[32m2\u001b[39m, \u001b[32m1\u001b[39m), (\u001b[32m4\u001b[39m, \u001b[32m1\u001b[39m)), \u001b[32m1\u001b[39m, \u001b[32m1\u001b[39m),\n",
       "  (\u001b[33mArrayBuffer\u001b[39m((\u001b[32m3\u001b[39m, \u001b[32m1\u001b[39m), (\u001b[32m5\u001b[39m, \u001b[32m1\u001b[39m)), \u001b[32m1\u001b[39m, \u001b[32m1\u001b[39m),\n",
       "  (\u001b[33mArrayBuffer\u001b[39m((\u001b[32m0\u001b[39m, \u001b[32m1\u001b[39m), (\u001b[32m2\u001b[39m, \u001b[32m1\u001b[39m), (\u001b[32m5\u001b[39m, \u001b[32m1\u001b[39m)), \u001b[32m0\u001b[39m, \u001b[32m1\u001b[39m),\n",
       "  (\u001b[33mArrayBuffer\u001b[39m((\u001b[32m3\u001b[39m, \u001b[32m1\u001b[39m), (\u001b[32m4\u001b[39m, \u001b[32m1\u001b[39m), (\u001b[32m5\u001b[39m, \u001b[32m1\u001b[39m)), \u001b[32m1\u001b[39m, \u001b[32m1\u001b[39m),\n",
       "  (\u001b[33mArrayBuffer\u001b[39m((\u001b[32m0\u001b[39m, \u001b[32m1\u001b[39m), (\u001b[32m1\u001b[39m, \u001b[32m1\u001b[39m), (\u001b[32m5\u001b[39m, \u001b[32m1\u001b[39m)), \u001b[32m0\u001b[39m, \u001b[32m1\u001b[39m),\n",
       "  (\u001b[33mArrayBuffer\u001b[39m((\u001b[32m2\u001b[39m, \u001b[32m1\u001b[39m), (\u001b[32m4\u001b[39m, \u001b[32m1\u001b[39m), (\u001b[32m5\u001b[39m, \u001b[32m1\u001b[39m)), \u001b[32m0\u001b[39m, \u001b[32m1\u001b[39m)\n",
       ")\n",
       "\u001b[36mdata\u001b[39m: \u001b[32mArray\u001b[39m[\u001b[32mCase\u001b[39m] = \u001b[33mArray\u001b[39m(\n",
       "  \u001b[33mCase\u001b[39m(\u001b[33mArrayBuffer\u001b[39m((\u001b[32m1\u001b[39m, \u001b[32m1\u001b[39m), (\u001b[32m4\u001b[39m, \u001b[32m1\u001b[39m)), \u001b[32m0\u001b[39m, \u001b[32m1\u001b[39m),\n",
       "  \u001b[33mCase\u001b[39m(\u001b[33mArrayBuffer\u001b[39m((\u001b[32m0\u001b[39m, \u001b[32m1\u001b[39m), (\u001b[32m1\u001b[39m, \u001b[32m1\u001b[39m), (\u001b[32m4\u001b[39m, \u001b[32m1\u001b[39m)), \u001b[32m1\u001b[39m, \u001b[32m2\u001b[39m),\n",
       "  \u001b[33mCase\u001b[39m(\u001b[33mArrayBuffer\u001b[39m((\u001b[32m0\u001b[39m, \u001b[32m1\u001b[39m), (\u001b[32m2\u001b[39m, \u001b[32m1\u001b[39m), (\u001b[32m3\u001b[39m, \u001b[32m1\u001b[39m), (\u001b[32m5\u001b[39m, \u001b[32m1\u001b[39m)), \u001b[32m0\u001b[39m, \u001b[32m1\u001b[39m),\n",
       "  \u001b[33mCase\u001b[39m(\u001b[33mArrayBuffer\u001b[39m((\u001b[32m1\u001b[39m, \u001b[32m1\u001b[39m), (\u001b[32m2\u001b[39m, \u001b[32m1\u001b[39m), (\u001b[32m4\u001b[39m, \u001b[32m1\u001b[39m)), \u001b[32m1\u001b[39m, \u001b[32m1\u001b[39m),\n",
       "  \u001b[33mCase\u001b[39m(\u001b[33mArrayBuffer\u001b[39m((\u001b[32m3\u001b[39m, \u001b[32m1\u001b[39m), (\u001b[32m5\u001b[39m, \u001b[32m1\u001b[39m)), \u001b[32m1\u001b[39m, \u001b[32m1\u001b[39m),\n",
       "  \u001b[33mCase\u001b[39m(\u001b[33mArrayBuffer\u001b[39m((\u001b[32m0\u001b[39m, \u001b[32m1\u001b[39m), (\u001b[32m2\u001b[39m, \u001b[32m1\u001b[39m), (\u001b[32m5\u001b[39m, \u001b[32m1\u001b[39m)), \u001b[32m0\u001b[39m, \u001b[32m1\u001b[39m),\n",
       "  \u001b[33mCase\u001b[39m(\u001b[33mArrayBuffer\u001b[39m((\u001b[32m3\u001b[39m, \u001b[32m1\u001b[39m), (\u001b[32m4\u001b[39m, \u001b[32m1\u001b[39m), (\u001b[32m5\u001b[39m, \u001b[32m1\u001b[39m)), \u001b[32m1\u001b[39m, \u001b[32m1\u001b[39m),\n",
       "  \u001b[33mCase\u001b[39m(\u001b[33mArrayBuffer\u001b[39m((\u001b[32m0\u001b[39m, \u001b[32m1\u001b[39m), (\u001b[32m1\u001b[39m, \u001b[32m1\u001b[39m), (\u001b[32m5\u001b[39m, \u001b[32m1\u001b[39m)), \u001b[32m0\u001b[39m, \u001b[32m1\u001b[39m),\n",
       "  \u001b[33mCase\u001b[39m(\u001b[33mArrayBuffer\u001b[39m((\u001b[32m2\u001b[39m, \u001b[32m1\u001b[39m), (\u001b[32m4\u001b[39m, \u001b[32m1\u001b[39m), (\u001b[32m5\u001b[39m, \u001b[32m1\u001b[39m)), \u001b[32m0\u001b[39m, \u001b[32m1\u001b[39m)\n",
       ")\n",
       "\u001b[36mnSamples\u001b[39m: \u001b[32mInt\u001b[39m = \u001b[32m10\u001b[39m"
      ]
     },
     "execution_count": 2,
     "metadata": {},
     "output_type": "execute_result"
    }
   ],
   "source": [
    "val raw_data = Array(\n",
    "(ArrayBuffer((1, 1), (4, 1)), 0, 1),\n",
    "(ArrayBuffer((0, 1), (1, 1), (4, 1)),1, 2),\n",
    "(ArrayBuffer((0, 1),             (2, 1), (3, 1),      (5, 1)), 0, 1),\n",
    "(ArrayBuffer((1, 1), (2, 1),      (4, 1)),      1, 1),\n",
    "(ArrayBuffer((3, 1),      (5, 1)), 1, 1),\n",
    "(ArrayBuffer((0, 1),      (2, 1),           (5, 1)), 0, 1),\n",
    "(ArrayBuffer(               (3, 1), (4, 1), (5, 1)), 1, 1),\n",
    "(ArrayBuffer((0, 1), (1, 1),                (5, 1)), 0, 1),\n",
    "(ArrayBuffer((2, 1),      (4, 1), (5, 1)), 0, 1)\n",
    ")\n",
    "val data = raw_data.map(tpl => Case(tpl._1, tpl._2, tpl._3))\n",
    "val nSamples = data.map(_.frq).sum"
   ]
  },
  {
   "cell_type": "code",
   "execution_count": 3,
   "metadata": {},
   "outputs": [
    {
     "name": "stdout",
     "output_type": "stream",
     "text": [
      "0>0 1>1 2>0 3>0 4>1 5>0 label>0 frq>1\n",
      "0>1 1>1 2>0 3>0 4>1 5>0 label>1 frq>2\n",
      "0>1 1>0 2>1 3>1 4>0 5>1 label>0 frq>1\n",
      "0>0 1>1 2>1 3>0 4>1 5>0 label>1 frq>1\n",
      "0>0 1>0 2>0 3>1 4>0 5>1 label>1 frq>1\n",
      "0>1 1>0 2>1 3>0 4>0 5>1 label>0 frq>1\n",
      "0>0 1>0 2>0 3>1 4>1 5>1 label>1 frq>1\n",
      "0>1 1>1 2>0 3>0 4>0 5>1 label>0 frq>1\n",
      "0>0 1>0 2>1 3>0 4>1 5>1 label>0 frq>1\n"
     ]
    }
   ],
   "source": [
    "data.foreach{c =>\n",
    "    print((0 to 5).map(i => i + \">\" + c.value(i)).mkString(\" \"))\n",
    "    println(\" label>\" + c.classLabel + \" frq>\" + c.frq)\n",
    "}"
   ]
  },
  {
   "cell_type": "code",
   "execution_count": 13,
   "metadata": {},
   "outputs": [
    {
     "data": {
      "text/plain": [
       "defined \u001b[32mfunction\u001b[39m \u001b[36mlog2\u001b[39m\n",
       "defined \u001b[32mfunction\u001b[39m \u001b[36mxlog2\u001b[39m\n",
       "defined \u001b[32mfunction\u001b[39m \u001b[36mentropy\u001b[39m\n",
       "defined \u001b[32mfunction\u001b[39m \u001b[36mentropyC\u001b[39m\n",
       "\u001b[36mHC\u001b[39m: \u001b[32mDouble\u001b[39m = \u001b[32m1.0\u001b[39m\n",
       "\u001b[36mHE\u001b[39m: \u001b[32mDouble\u001b[39m = \u001b[32m3.1219280948873624\u001b[39m\n",
       "\u001b[36mHEC\u001b[39m: \u001b[32mDouble\u001b[39m = \u001b[32m3.1219280948873624\u001b[39m\n",
       "\u001b[36mIEC\u001b[39m: \u001b[32mDouble\u001b[39m = \u001b[32m1.0\u001b[39m"
      ]
     },
     "execution_count": 13,
     "metadata": {},
     "output_type": "execute_result"
    }
   ],
   "source": [
    "def log2(x: Int): Double = math.log(x)/math.log(2)\n",
    "def xlog2(x: Int): Double = if(x == 0) 0 else x * math.log(x)/math.log(2)\n",
    "\n",
    "def entropy(a: Array[Int]): Double = {\n",
    "    val count = HashMap[String, Int]()\n",
    "    for(c <- data) {\n",
    "        val sgn = a.map(c.value(_)).mkString(\"\")\n",
    "        if(count.isDefinedAt(sgn)) count(sgn) += c.frq else count(sgn) = c.frq\n",
    "    }\n",
    "    return count.values.map(- xlog2(_)).sum/nSamples + log2(nSamples)\n",
    "}\n",
    "\n",
    "def entropyC(a: Array[Int]): Double = {\n",
    "    val count = HashMap[String, Int]()\n",
    "    for(c <- data) {\n",
    "        val sgn = a.map(c.value(_)).mkString(\"\") + c.classLabel\n",
    "        if(count.isDefinedAt(sgn)) count(sgn) += c.frq else count(sgn) = c.frq\n",
    "    }\n",
    "    return count.values.map(- xlog2(_)).sum/nSamples + log2(nSamples)\n",
    "}\n",
    "val HC = entropyC(Array())\n",
    "val HE = entropy((0 to 5).toArray)\n",
    "val HEC = entropyC((0 to 5).toArray)\n",
    "val IEC = HE + HC - HEC"
   ]
  },
  {
   "cell_type": "code",
   "execution_count": 31,
   "metadata": {},
   "outputs": [
    {
     "name": "stdout",
     "output_type": "stream",
     "text": [
      "Selected = \n",
      "Relevance of selected = -0.0000\n",
      "Noise of selected = 0.0000\n",
      "Per feature ***\n",
      "Range = 2 3 4 5 0 1\n",
      "relevance = 0.1245 : 0.0349 : 0.1245 : 0.1245 : 0.0290 : 0.0290\n",
      "noise = 0.8464 : 0.8464 : 0.8464 : 0.8464 : 0.9710 : 0.9710\n",
      "ratio = 0.1471 : 0.0412 : 0.1471 : 0.1471 : 0.0299 : 0.0299\n",
      "importance = -0.0000 0.1245 0.3245 0.5245 0.7245 1.0000\n"
     ]
    },
    {
     "data": {
      "text/plain": [
       "\u001b[36mprefix\u001b[39m: \u001b[32mArray\u001b[39m[\u001b[32mInt\u001b[39m] = \u001b[33mArray\u001b[39m()\n",
       "\u001b[36mrange\u001b[39m: \u001b[32mArray\u001b[39m[\u001b[32mInt\u001b[39m] = \u001b[33mArray\u001b[39m(\u001b[32m2\u001b[39m, \u001b[32m3\u001b[39m, \u001b[32m4\u001b[39m, \u001b[32m5\u001b[39m, \u001b[32m0\u001b[39m, \u001b[32m1\u001b[39m)\n",
       "\u001b[36mrelevance\u001b[39m: \u001b[32mArray\u001b[39m[\u001b[32mDouble\u001b[39m] = \u001b[33mArray\u001b[39m(\n",
       "  \u001b[32m0.12451124978365358\u001b[39m,\n",
       "  \u001b[32m0.0348515545596777\u001b[39m,\n",
       "  \u001b[32m0.12451124978365358\u001b[39m,\n",
       "  \u001b[32m0.12451124978365358\u001b[39m,\n",
       "  \u001b[32m0.029049405545331863\u001b[39m,\n",
       "  \u001b[32m0.02904940554533164\u001b[39m\n",
       ")\n",
       "\u001b[36mnoise\u001b[39m: \u001b[32mArray\u001b[39m[\u001b[32mDouble\u001b[39m] = \u001b[33mArray\u001b[39m(\n",
       "  \u001b[32m0.8464393446710157\u001b[39m,\n",
       "  \u001b[32m0.8464393446710157\u001b[39m,\n",
       "  \u001b[32m0.8464393446710157\u001b[39m,\n",
       "  \u001b[32m0.8464393446710157\u001b[39m,\n",
       "  \u001b[32m0.9709505944546686\u001b[39m,\n",
       "  \u001b[32m0.9709505944546688\u001b[39m\n",
       ")\n",
       "\u001b[36mratio\u001b[39m: \u001b[32mcollection\u001b[39m.\u001b[32mimmutable\u001b[39m.\u001b[32mIndexedSeq\u001b[39m[\u001b[32mDouble\u001b[39m] = \u001b[33mVector\u001b[39m(\n",
       "  \u001b[32m0.14710002620689516\u001b[39m,\n",
       "  \u001b[32m0.04117430832946855\u001b[39m,\n",
       "  \u001b[32m0.14710002620689516\u001b[39m,\n",
       "  \u001b[32m0.14710002620689516\u001b[39m,\n",
       "  \u001b[32m0.02991852078904939\u001b[39m,\n",
       "  \u001b[32m0.029918520789049153\u001b[39m\n",
       ")\n",
       "\u001b[36mimportance\u001b[39m: \u001b[32mcollection\u001b[39m.\u001b[32mimmutable\u001b[39m.\u001b[32mIndexedSeq\u001b[39m[\u001b[32mDouble\u001b[39m] = \u001b[33mVector\u001b[39m(\n",
       "  \u001b[32m-4.440892098500626E-16\u001b[39m,\n",
       "  \u001b[32m0.12451124978365313\u001b[39m,\n",
       "  \u001b[32m0.32451124978365264\u001b[39m,\n",
       "  \u001b[32m0.5245112497836533\u001b[39m,\n",
       "  \u001b[32m0.7245112497836534\u001b[39m,\n",
       "  \u001b[32m1.0\u001b[39m\n",
       ")"
      ]
     },
     "execution_count": 31,
     "metadata": {},
     "output_type": "execute_result"
    }
   ],
   "source": [
    "var prefix = Array[Int]()\n",
    "var range = Array(2,3,4,5,0,1)\n",
    "var relevance = range.map(f => \n",
    "                             entropyC(prefix)-entropyC(prefix:+f) - entropy(prefix)+entropy(prefix:+f))\n",
    "var noise = range.map(f => -entropyC(prefix)+entropyC(prefix:+f))\n",
    "var ratio = (0 until range.size).map(i => relevance(i)/noise(i))\n",
    "var importance = (0 until range.size).map{i =>\n",
    "    (entropy(range.take(i) ++ prefix) + HC - entropyC(range.take(i) ++ prefix))/IEC\n",
    "}\n",
    "println(\"Selected = \" + prefix.mkString(\" \"))\n",
    "println(\"Relevance of selected = \" + f.format(entropy(prefix) + HC - entropyC(prefix)))\n",
    "println(\"Noise of selected = \" + f.format(entropyC(prefix) - HC))\n",
    "println(\"Per feature ***\")\n",
    "println(\"Range = \" + range.mkString(\" \"))\n",
    "println(\"relevance = \" + relevance.map(f.format(_)).mkString(\" : \"))\n",
    "println(\"noise = \" + noise.map(f.format(_)).mkString(\" : \"))\n",
    "println(\"ratio = \" + ratio.map(f.format(_)).mkString(\" : \"))\n",
    "println(\"importance = \" + importance.map(f.format(_)).mkString(\" \"))"
   ]
  },
  {
   "cell_type": "code",
   "execution_count": 26,
   "metadata": {},
   "outputs": [
    {
     "name": "stdout",
     "output_type": "stream",
     "text": [
      "Selected = 0\n",
      "Relevance of selected = 0.0290\n",
      "Noise of selected = 0.9710\n",
      "Per feature ***\n",
      "Range = 4 5 3 2\n",
      "relevance = 0.5710 : 0.4955 : 0.2955 : 0.2200\n",
      "noise = 0.2755 : 0.4755 : 0.5510 : 0.7510\n",
      "ratio = 2.0725 : 1.0420 : 0.5363 : 0.2929\n",
      "importance = 0.0290 0.6000 0.6000 0.8000\n"
     ]
    }
   ],
   "source": [
    "prefix = Array[Int](0)\n",
    "range = Array(4,5,3,2)\n",
    "relevance = range.map(f => \n",
    "                             entropyC(prefix)-entropyC(prefix:+f) - entropy(prefix)+entropy(prefix:+f))\n",
    "noise = range.map(f => -entropyC(prefix)+entropyC(prefix:+f))\n",
    "ratio = (0 until range.size).map(i => relevance(i)/noise(i))\n",
    "importance = (0 until range.size).map{i =>\n",
    "    (entropy(range.take(i) ++ prefix) + HC - entropyC(range.take(i) ++ prefix))/IEC\n",
    "}\n",
    "println(\"Selected = \" + prefix.mkString(\" \"))\n",
    "println(\"Relevance of selected = \" + f.format(entropy(prefix) + HC - entropyC(prefix)))\n",
    "println(\"Noise of selected = \" + f.format(entropyC(prefix) - HC))\n",
    "println(\"Per feature ***\")\n",
    "println(\"Range = \" + range.mkString(\" \"))\n",
    "println(\"relevance = \" + relevance.map(f.format(_)).mkString(\" : \"))\n",
    "println(\"noise = \" + noise.map(f.format(_)).mkString(\" : \"))\n",
    "println(\"ratio = \" + ratio.map(f.format(_)).mkString(\" : \"))\n",
    "println(\"importance = \" + importance.map(f.format(_)).mkString(\" \"))"
   ]
  },
  {
   "cell_type": "code",
   "execution_count": 28,
   "metadata": {},
   "outputs": [
    {
     "name": "stdout",
     "output_type": "stream",
     "text": [
      "Selected = 0 2\n",
      "Relevance of selected = 0.2490\n",
      "Noise of selected = 1.7219\n",
      "Per feature ***\n",
      "Range = 5 4 3\n",
      "relevance = 0.7510 : 0.3510 : 0.2755\n",
      "noise = 0.0000 : 0.2000 : 0.2000\n",
      "ratio = ∞ : 1.7549 : 1.3774\n",
      "importance = 0.2490 1.0000 1.0000\n"
     ]
    }
   ],
   "source": [
    "prefix = Array[Int](0, 2)\n",
    "range = Array(5,4,3)\n",
    "relevance = range.map(f => \n",
    "                             entropyC(prefix)-entropyC(prefix:+f) - entropy(prefix)+entropy(prefix:+f))\n",
    "noise = range.map(f => -entropyC(prefix)+entropyC(prefix:+f))\n",
    "ratio = (0 until range.size).map(i => relevance(i)/noise(i))\n",
    "importance = (0 until range.size).map{i =>\n",
    "    (entropy(range.take(i) ++ prefix) + HC - entropyC(range.take(i) ++ prefix))/IEC\n",
    "}\n",
    "println(\"Selected = \" + prefix.mkString(\" \"))\n",
    "println(\"Relevance of selected = \" + f.format(entropy(prefix) + HC - entropyC(prefix)))\n",
    "println(\"Noise of selected = \" + f.format(entropyC(prefix) - HC))\n",
    "println(\"Per feature ***\")\n",
    "println(\"Range = \" + range.mkString(\" \"))\n",
    "println(\"relevance = \" + relevance.map(f.format(_)).mkString(\" : \"))\n",
    "println(\"noise = \" + noise.map(f.format(_)).mkString(\" : \"))\n",
    "println(\"ratio = \" + ratio.map(f.format(_)).mkString(\" : \"))\n",
    "println(\"importance = \" + importance.map(f.format(_)).mkString(\" \"))"
   ]
  },
  {
   "cell_type": "code",
   "execution_count": 30,
   "metadata": {},
   "outputs": [
    {
     "name": "stdout",
     "output_type": "stream",
     "text": [
      "Selected = 0 2 5\n",
      "Relevance of selected = 1.0000\n",
      "Noise of selected = 1.7219\n",
      "Per feature ***\n",
      "Range = \n",
      "relevance = \n",
      "noise = \n",
      "ratio = \n",
      "importance = \n"
     ]
    }
   ],
   "source": [
    "prefix = Array[Int](0,2,5)\n",
    "range = Array()\n",
    "relevance = range.map(f => \n",
    "                             entropyC(prefix)-entropyC(prefix:+f) - entropy(prefix)+entropy(prefix:+f))\n",
    "noise = range.map(f => -entropyC(prefix)+entropyC(prefix:+f))\n",
    "ratio = (0 until range.size).map(i => relevance(i)/noise(i))\n",
    "importance = (0 until range.size).map{i =>\n",
    "    (entropy(range.take(i) ++ prefix) + HC - entropyC(range.take(i) ++ prefix))/IEC\n",
    "}\n",
    "println(\"Selected = \" + prefix.mkString(\" \"))\n",
    "println(\"Relevance of selected = \" + f.format(entropy(prefix) + HC - entropyC(prefix)))\n",
    "println(\"Noise of selected = \" + f.format(entropyC(prefix) - HC))\n",
    "println(\"Per feature ***\")\n",
    "println(\"Range = \" + range.mkString(\" \"))\n",
    "println(\"relevance = \" + relevance.map(f.format(_)).mkString(\" : \"))\n",
    "println(\"noise = \" + noise.map(f.format(_)).mkString(\" : \"))\n",
    "println(\"ratio = \" + ratio.map(f.format(_)).mkString(\" : \"))\n",
    "println(\"importance = \" + importance.map(f.format(_)).mkString(\" \"))"
   ]
  },
  {
   "cell_type": "code",
   "execution_count": null,
   "metadata": {},
   "outputs": [],
   "source": []
  }
 ],
 "metadata": {
  "kernelspec": {
   "display_name": "Scala",
   "language": "scala",
   "name": "scala"
  },
  "language_info": {
   "codemirror_mode": "text/x-scala",
   "file_extension": ".scala",
   "mimetype": "text/x-scala",
   "name": "scala",
   "nbconvert_exporter": "script",
  "version": "3.3.6"
  }
 },
 "nbformat": 4,
 "nbformat_minor": 2
}
